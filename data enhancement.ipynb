{
 "cells": [
  {
   "cell_type": "code",
   "execution_count": 1,
   "metadata": {},
   "outputs": [],
   "source": [
    "import cv2\n",
    "import random\n",
    "import os\n",
    "import numpy as np\n",
    "from tqdm import tqdm"
   ]
  },
  {
   "cell_type": "code",
   "execution_count": 2,
   "metadata": {},
   "outputs": [],
   "source": [
    "img_w = 256  \n",
    "img_h = 256"
   ]
  },
  {
   "cell_type": "code",
   "execution_count": 3,
   "metadata": {},
   "outputs": [],
   "source": [
    "image_sets = ['1.png','2.png','3.png','4.png','5.png']"
   ]
  },
  {
   "cell_type": "code",
   "execution_count": 4,
   "metadata": {},
   "outputs": [],
   "source": [
    "def gamma_transform(img, gamma):\n",
    "    gamma_table = [np.power(x / 255.0, gamma) * 255.0 for x in range(256)]\n",
    "    gamma_table = np.round(np.array(gamma_table)).astype(np.uint8)\n",
    "    return cv2.LUT(img, gamma_table)"
   ]
  },
  {
   "cell_type": "code",
   "execution_count": 5,
   "metadata": {},
   "outputs": [],
   "source": [
    "def random_gamma_transform(img, gamma_vari):\n",
    "    log_gamma_vari = np.log(gamma_vari)\n",
    "    alpha = np.random.uniform(-log_gamma_vari, log_gamma_vari)\n",
    "    gamma = np.exp(alpha)\n",
    "    return gamma_transform(img, gamma)"
   ]
  },
  {
   "cell_type": "code",
   "execution_count": 6,
   "metadata": {},
   "outputs": [],
   "source": [
    "def rotate(xb,yb,angle):\n",
    "    M_rotate = cv2.getRotationMatrix2D((img_w/2, img_h/2), angle, 1)\n",
    "    xb = cv2.warpAffine(xb, M_rotate, (img_w, img_h))\n",
    "    yb = cv2.warpAffine(yb, M_rotate, (img_w, img_h))\n",
    "    return xb,yb"
   ]
  },
  {
   "cell_type": "code",
   "execution_count": 7,
   "metadata": {},
   "outputs": [],
   "source": [
    "def blur(img):\n",
    "    img = cv2.blur(img, (3, 3));\n",
    "    return img"
   ]
  },
  {
   "cell_type": "code",
   "execution_count": 8,
   "metadata": {},
   "outputs": [],
   "source": [
    "def add_noise(img):\n",
    "    for i in range(200): #添加点噪声\n",
    "        temp_x = np.random.randint(0,img.shape[0])\n",
    "        temp_y = np.random.randint(0,img.shape[1])\n",
    "        img[temp_x][temp_y] = 255\n",
    "    return img"
   ]
  },
  {
   "cell_type": "code",
   "execution_count": 9,
   "metadata": {},
   "outputs": [],
   "source": [
    "def data_augment(xb,yb):\n",
    "    if np.random.random() < 0.25:\n",
    "        xb,yb = rotate(xb,yb,90)\n",
    "    if np.random.random() < 0.25:\n",
    "        xb,yb = rotate(xb,yb,180)\n",
    "    if np.random.random() < 0.25:\n",
    "        xb,yb = rotate(xb,yb,270)\n",
    "    if np.random.random() < 0.25:\n",
    "        xb = cv2.flip(xb, 1)  # flipcode > 0：沿y轴翻转\n",
    "        yb = cv2.flip(yb, 1)\n",
    "        \n",
    "    if np.random.random() < 0.25:\n",
    "        xb = random_gamma_transform(xb,1.0)\n",
    "        \n",
    "    if np.random.random() < 0.25:\n",
    "        xb = blur(xb)\n",
    "    \n",
    "    if np.random.random() < 0.2:\n",
    "        xb = add_noise(xb)\n",
    "        \n",
    "    return xb,yb"
   ]
  },
  {
   "cell_type": "code",
   "execution_count": 10,
   "metadata": {},
   "outputs": [],
   "source": [
    "def creat_dataset(image_num = 30000, mode = 'original'):\n",
    "    print('creating dataset...')\n",
    "    image_each = image_num / len(image_sets)\n",
    "    g_count = 0\n",
    "    for i in tqdm(range(len(image_sets))):\n",
    "        count = 0\n",
    "        src_img = cv2.imread( './dataset/origin/image/'+image_sets[i])  # 3 channels\n",
    "        label_img = cv2.imread('./dataset/origin/label/'+image_sets[i],cv2.IMREAD_GRAYSCALE)  # single channel\n",
    "        X_height,X_width,_ = src_img.shape\n",
    "        while count < image_each:\n",
    "            random_width = random.randint(0, X_width - img_w - 1)\n",
    "            random_height = random.randint(0, X_height - img_h - 1)\n",
    "            src_roi = src_img[random_height: random_height + img_h, random_width: random_width + img_w,:]\n",
    "            label_roi = label_img[random_height: random_height + img_h, random_width: random_width + img_w]\n",
    "            if mode == 'augment':\n",
    "                src_roi,label_roi = data_augment(src_roi,label_roi)\n",
    "            \n",
    "\n",
    "            cv2.imwrite(('./dataset/train/images/%d.png' % g_count),src_roi)\n",
    "            cv2.imwrite(('./dataset/train/labels/%d.png' % g_count),label_roi)\n",
    "            count += 1 \n",
    "            g_count += 1"
   ]
  },
  {
   "cell_type": "code",
   "execution_count": 11,
   "metadata": {},
   "outputs": [
    {
     "name": "stderr",
     "output_type": "stream",
     "text": [
      "\r",
      "  0%|                                                                                            | 0/5 [00:00<?, ?it/s]"
     ]
    },
    {
     "name": "stdout",
     "output_type": "stream",
     "text": [
      "creating dataset...\n"
     ]
    },
    {
     "name": "stderr",
     "output_type": "stream",
     "text": [
      "100%|████████████████████████████████████████████████████████████████████████████████████| 5/5 [03:24<00:00, 40.91s/it]\n"
     ]
    }
   ],
   "source": [
    "creat_dataset(mode='augment')"
   ]
  },
  {
   "cell_type": "code",
   "execution_count": null,
   "metadata": {},
   "outputs": [],
   "source": []
  }
 ],
 "metadata": {
  "kernelspec": {
   "display_name": "Python 3",
   "language": "python",
   "name": "python3"
  },
  "language_info": {
   "codemirror_mode": {
    "name": "ipython",
    "version": 3
   },
   "file_extension": ".py",
   "mimetype": "text/x-python",
   "name": "python",
   "nbconvert_exporter": "python",
   "pygments_lexer": "ipython3",
   "version": "3.7.6"
  }
 },
 "nbformat": 4,
 "nbformat_minor": 5
}
