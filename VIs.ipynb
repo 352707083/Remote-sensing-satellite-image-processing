{
 "cells": [
  {
   "cell_type": "code",
   "execution_count": 1,
   "metadata": {},
   "outputs": [],
   "source": [
    "#导入相关包\n",
    "import tensorflow as tf\n",
    "import matplotlib.pyplot as plt\n",
    "%matplotlib inline\n",
    "import numpy as np\n",
    "import glob\n",
    "import os"
   ]
  },
  {
   "cell_type": "code",
   "execution_count": 2,
   "metadata": {},
   "outputs": [],
   "source": [
    "# 使用预训练网络\n",
    "conv_base = tf.keras.applications.VGG16(weights=\"imagenet\", # 使用该模型image权重\n",
    "                                        input_shape=(256,256,3), \n",
    "                                        include_top = False)\n",
    "layer_names = [\n",
    "    \"block5_conv3\", # 14x14\n",
    "    \"block4_conv3\", # 28x28\n",
    "    \"block3_conv3\", # 56x56\n",
    "    \"block5_pool\"\n",
    "] # 获取输出层的名字\n",
    "layers_output = [conv_base.get_layer(layer_name).output for layer_name in layer_names]\n",
    "# 从预训练网络中创建子模型\n",
    "multi_out_model = tf.keras.models.Model(inputs = conv_base.input,outputs = layers_output)\n",
    "multi_out_model.trainable = False # 禁止训练"
   ]
  },
  {
   "cell_type": "code",
   "execution_count": 3,
   "metadata": {},
   "outputs": [],
   "source": [
    "#构建模型\n",
    "inputs = tf.keras.layers.Input(shape=(256,256,3))\n",
    "out_block5_conv3,out_block4_conv3,out_block3_conv3,out = multi_out_model(inputs)\n",
    "#输出512个卷积核 窗口大小3*3   图片变大2倍填充方式same保证和原有图像大小一样  激活relu\n",
    "x1 = tf.keras.layers.Conv2DTranspose(512,3,strides=2,padding=\"same\",activation=\"relu\")(out) # 调用out层\n",
    "x1 = tf.keras.layers.SpatialDropout2D(0.6)(x1)\n",
    "x1 = tf.keras.layers.Conv2D(512,3,padding=\"same\",activation=\"relu\")(x1) # 在增加一层卷积\n",
    "x1 = tf.keras.layers.SpatialDropout2D(0.6)(x1)\n",
    "x2 = tf.add(x1,out_block5_conv3) # 层相加\n",
    "x2 = tf.keras.layers.Conv2DTranspose(512,3,strides=2,padding=\"same\",activation=\"relu\")(x2)\n",
    "x2 = tf.keras.layers.SpatialDropout2D(0.6)(x2)\n",
    "x2 = tf.keras.layers.Conv2D(512,3,padding=\"same\",activation=\"relu\")(x2) # 在增加一层卷积\n",
    "x2 = tf.keras.layers.SpatialDropout2D(0.6)(x2)\n",
    "x3 = tf.add(x2,out_block4_conv3) # 层相加\n",
    "x3 = tf.keras.layers.Conv2DTranspose(256,3,strides=2,padding=\"same\",activation=\"relu\")(x3)\n",
    "x3 = tf.keras.layers.SpatialDropout2D(0.6)(x3)\n",
    "x3 = tf.keras.layers.Conv2D(256,3,padding=\"same\",activation=\"relu\")(x3) # 在增加一层卷积进一步提取特征\n",
    "x3 = tf.keras.layers.SpatialDropout2D(0.6)(x3)\n",
    "x4 = tf.add(x3,out_block3_conv3)\n",
    "x5 = tf.keras.layers.Conv2DTranspose(128,3,strides=2,padding=\"same\",activation=\"relu\")(x4)\n",
    "x5 = tf.keras.layers.Conv2D(128,3,padding=\"same\",activation=\"relu\")(x5) # 在增加一层卷积进一步提取特征\n",
    "prediction = tf.keras.layers.Conv2DTranspose(5, 3, strides=2,padding=\"same\",activation=\"softmax\")(x5) # 上采样\n",
    "model1 = tf.keras.models.Model(inputs=inputs,outputs=prediction)"
   ]
  },
  {
   "cell_type": "code",
   "execution_count": 4,
   "metadata": {},
   "outputs": [
    {
     "name": "stdout",
     "output_type": "stream",
     "text": [
      "Model: \"model_1\"\n",
      "__________________________________________________________________________________________________\n",
      "Layer (type)                    Output Shape         Param #     Connected to                     \n",
      "==================================================================================================\n",
      "input_2 (InputLayer)            [(None, 256, 256, 3) 0                                            \n",
      "__________________________________________________________________________________________________\n",
      "model (Model)                   [(None, 16, 16, 512) 14714688    input_2[0][0]                    \n",
      "__________________________________________________________________________________________________\n",
      "conv2d_transpose (Conv2DTranspo (None, 16, 16, 512)  2359808     model[1][3]                      \n",
      "__________________________________________________________________________________________________\n",
      "spatial_dropout2d (SpatialDropo (None, 16, 16, 512)  0           conv2d_transpose[0][0]           \n",
      "__________________________________________________________________________________________________\n",
      "conv2d (Conv2D)                 (None, 16, 16, 512)  2359808     spatial_dropout2d[0][0]          \n",
      "__________________________________________________________________________________________________\n",
      "spatial_dropout2d_1 (SpatialDro (None, 16, 16, 512)  0           conv2d[0][0]                     \n",
      "__________________________________________________________________________________________________\n",
      "tf_op_layer_Add (TensorFlowOpLa [(None, 16, 16, 512) 0           spatial_dropout2d_1[0][0]        \n",
      "                                                                 model[1][0]                      \n",
      "__________________________________________________________________________________________________\n",
      "conv2d_transpose_1 (Conv2DTrans (None, 32, 32, 512)  2359808     tf_op_layer_Add[0][0]            \n",
      "__________________________________________________________________________________________________\n",
      "spatial_dropout2d_2 (SpatialDro (None, 32, 32, 512)  0           conv2d_transpose_1[0][0]         \n",
      "__________________________________________________________________________________________________\n",
      "conv2d_1 (Conv2D)               (None, 32, 32, 512)  2359808     spatial_dropout2d_2[0][0]        \n",
      "__________________________________________________________________________________________________\n",
      "spatial_dropout2d_3 (SpatialDro (None, 32, 32, 512)  0           conv2d_1[0][0]                   \n",
      "__________________________________________________________________________________________________\n",
      "tf_op_layer_Add_1 (TensorFlowOp [(None, 32, 32, 512) 0           spatial_dropout2d_3[0][0]        \n",
      "                                                                 model[1][1]                      \n",
      "__________________________________________________________________________________________________\n",
      "conv2d_transpose_2 (Conv2DTrans (None, 64, 64, 256)  1179904     tf_op_layer_Add_1[0][0]          \n",
      "__________________________________________________________________________________________________\n",
      "spatial_dropout2d_4 (SpatialDro (None, 64, 64, 256)  0           conv2d_transpose_2[0][0]         \n",
      "__________________________________________________________________________________________________\n",
      "conv2d_2 (Conv2D)               (None, 64, 64, 256)  590080      spatial_dropout2d_4[0][0]        \n",
      "__________________________________________________________________________________________________\n",
      "spatial_dropout2d_5 (SpatialDro (None, 64, 64, 256)  0           conv2d_2[0][0]                   \n",
      "__________________________________________________________________________________________________\n",
      "tf_op_layer_Add_2 (TensorFlowOp [(None, 64, 64, 256) 0           spatial_dropout2d_5[0][0]        \n",
      "                                                                 model[1][2]                      \n",
      "__________________________________________________________________________________________________\n",
      "conv2d_transpose_3 (Conv2DTrans (None, 128, 128, 128 295040      tf_op_layer_Add_2[0][0]          \n",
      "__________________________________________________________________________________________________\n",
      "conv2d_3 (Conv2D)               (None, 128, 128, 128 147584      conv2d_transpose_3[0][0]         \n",
      "__________________________________________________________________________________________________\n",
      "conv2d_transpose_4 (Conv2DTrans (None, 256, 256, 5)  5765        conv2d_3[0][0]                   \n",
      "==================================================================================================\n",
      "Total params: 26,372,293\n",
      "Trainable params: 11,657,605\n",
      "Non-trainable params: 14,714,688\n",
      "__________________________________________________________________________________________________\n"
     ]
    }
   ],
   "source": [
    "model1.summary()"
   ]
  },
  {
   "cell_type": "code",
   "execution_count": 5,
   "metadata": {},
   "outputs": [
    {
     "name": "stdout",
     "output_type": "stream",
     "text": [
      "模型保存路径： ./model/FCN.ckpt\n",
      "-------------load the model-----------------\n"
     ]
    }
   ],
   "source": [
    "# 导入保存的模型，第二次运行才可以进行的操作\n",
    "# 给出模型保存的路径以及文件名\n",
    "model1_name = 'FCN'\n",
    "#checkpoint_save_path = \"./checkpoint/{0}-mineral-type{1}.ckpt\".format(model_name,len(dirList)) \n",
    "checkpoint_save_path = \"./model/{0}.ckpt\".format(model1_name) \n",
    "print('模型保存路径：',checkpoint_save_path)\n",
    "\n",
    "# 读取模型\n",
    "if os.path.exists(checkpoint_save_path + '.index'):        # 通过索引表判断保存文件是否存在\n",
    "    print('-------------load the model-----------------')  # 是，则打印\"导入模型\"\n",
    "    model1.load_weights(checkpoint_save_path)               # 导入模型"
   ]
  },
  {
   "cell_type": "code",
   "execution_count": 6,
   "metadata": {},
   "outputs": [],
   "source": [
    "from tensorflow.keras.models import *\n",
    "from tensorflow.keras.layers import *\n",
    "\n",
    "def Segnet(nClasses=5, input_height=256, input_width=256):\n",
    "    inputs = Input(shape=(input_height, input_width, 3))\n",
    "    #Encoder\n",
    "    # 256x256\n",
    "    conv1 = Conv2D(32, (3, 3), activation='relu', padding='same')(inputs)\n",
    "    conv1 = BatchNormalization()(conv1)\n",
    "    conv1 = Conv2D(32, (3, 3), activation='relu', padding='same')(conv1)\n",
    "    conv1 = BatchNormalization()(conv1)\n",
    "    pool1 = MaxPooling2D(pool_size=(2, 2))(conv1)\n",
    "    pool1=Dropout(0.5)(pool1)\n",
    "    # 112x112\n",
    "    conv2 = Conv2D(64, (3, 3), activation='relu', padding='same')(pool1)\n",
    "    conv2 = BatchNormalization()(conv2)\n",
    "    conv2 = Conv2D(64, (3, 3), activation='relu', padding='same')(conv2)\n",
    "    conv2 = BatchNormalization()(conv2)\n",
    "    pool2 = MaxPooling2D(pool_size=(2, 2))(conv2)\n",
    "    pool2=Dropout(0.5)(pool2)\n",
    "    # 56x56\n",
    "    conv3 = Conv2D(128, (3, 3), activation='relu', padding='same')(pool2)\n",
    "    conv3 = BatchNormalization()(conv3)\n",
    "    conv3 = Conv2D(128, (3, 3), activation='relu', padding='same')(conv3)\n",
    "    conv3 = BatchNormalization()(conv3)\n",
    "    pool3 = MaxPooling2D(pool_size=(2, 2))(conv3)\n",
    "    pool3=Dropout(0.5)(pool3)\n",
    "    # 28x28\n",
    "    conv4 = Conv2D(256, (3, 3), activation='relu', padding='same')(pool3)\n",
    "    conv4 = BatchNormalization()(conv4)\n",
    "    conv4 = Conv2D(256, (3, 3), activation='relu', padding='same')(conv4)\n",
    "    conv4 = BatchNormalization()(conv4)\n",
    "    pool4 = MaxPooling2D(pool_size=(2, 2))(conv4)\n",
    "    pool4=Dropout(0.5)(pool4)\n",
    "    # 14x14\n",
    "\n",
    "    # decode\n",
    "    up7 = UpSampling2D(size=(2, 2))(pool4)\n",
    "    #up7 = concatenate([up7, conv4], axis=-1)\n",
    "    conv7 = Conv2D(256, (3, 3), activation='relu', padding='same')(up7)\n",
    "    conv7 = BatchNormalization()(conv7)\n",
    "    conv7 = Conv2D(256, (3, 3), activation='relu', padding='same')(conv7)\n",
    "    conv7 = BatchNormalization()(conv7)\n",
    "    conv7 = Dropout(0.5)(conv7)\n",
    "\n",
    "    up8 = UpSampling2D(size=(2, 2))(conv7)\n",
    "    #up8 = concatenate([up8, conv3], axis=-1)\n",
    "    conv8 = Conv2D(128, (3, 3), activation='relu', padding='same')(up8)\n",
    "    conv8 = BatchNormalization()(conv8)\n",
    "    conv8 = Conv2D(128, (3, 3), activation='relu', padding='same')(conv8)\n",
    "    conv8 = BatchNormalization()(conv8)\n",
    "    conv8 = Dropout(0.5)(conv8)\n",
    "\n",
    "    up9 = UpSampling2D(size=(2, 2))(conv8)\n",
    "    #up9 = concatenate([up9, conv2], axis=-1)\n",
    "    conv9 = Conv2D(64, (3, 3), activation='relu', padding='same')(up9)\n",
    "    conv9 = BatchNormalization()(conv9)\n",
    "    conv9 = Conv2D(64, (3, 3), activation='relu', padding='same')(conv9)\n",
    "    conv9 = BatchNormalization()(conv9)\n",
    "    conv9 = Dropout(0.5)(conv9)\n",
    "\n",
    "    up10 = UpSampling2D(size=(2, 2))(conv9)\n",
    "    #up10 = concatenate([up10, conv1], axis=-1)\n",
    "    conv10 = Conv2D(32, (3, 3), activation='relu', padding='same')(up10)\n",
    "    conv10 = BatchNormalization()(conv10)\n",
    "    conv10 = Conv2D(32, (3, 3), activation='relu', padding='same')(conv10)\n",
    "    conv10 = BatchNormalization()(conv10)\n",
    "    outputHeight = Model(inputs, conv10).output_shape[1]\n",
    "    outputWidth = Model(inputs, conv10).output_shape[2]\n",
    "    conv11 = Conv2D(nClasses, (1, 1), padding='same')(conv10)\n",
    "    conv11 = Activation('softmax')(conv11)\n",
    "\n",
    "    model = Model(inputs, conv11)\n",
    "    model.outputWidth = outputWidth\n",
    "    model.outputHeight = outputHeight\n",
    "\t\n",
    "    return model"
   ]
  },
  {
   "cell_type": "code",
   "execution_count": 7,
   "metadata": {},
   "outputs": [],
   "source": [
    "model2=Segnet()"
   ]
  },
  {
   "cell_type": "code",
   "execution_count": 8,
   "metadata": {},
   "outputs": [
    {
     "name": "stdout",
     "output_type": "stream",
     "text": [
      "模型保存路径： ./model/Segnet.ckpt\n",
      "-------------load the model-----------------\n"
     ]
    }
   ],
   "source": [
    "# 导入保存的模型，第二次运行才可以进行的操作\n",
    "# 给出模型保存的路径以及文件名\n",
    "model2_name = 'Segnet'\n",
    "#checkpoint_save_path = \"./checkpoint/{0}-mineral-type{1}.ckpt\".format(model_name,len(dirList)) \n",
    "checkpoint_save_path = \"./model/{0}.ckpt\".format(model2_name) \n",
    "print('模型保存路径：',checkpoint_save_path)\n",
    "\n",
    "# 读取模型\n",
    "if os.path.exists(checkpoint_save_path + '.index'):        # 通过索引表判断保存文件是否存在\n",
    "    print('-------------load the model-----------------')  # 是，则打印\"导入模型\"\n",
    "    model2.load_weights(checkpoint_save_path)               # 导入模型"
   ]
  },
  {
   "cell_type": "code",
   "execution_count": 9,
   "metadata": {},
   "outputs": [],
   "source": [
    "def create_model():\n",
    "    ## unet网络结构下采样部分\n",
    "    # 输入层 第一部分\n",
    "    inputs = tf.keras.layers.Input(shape = (256,256,3))\n",
    "    \n",
    "    x = tf.keras.layers.Conv2D(32,3,padding=\"same\",activation=\"relu\")(inputs)\n",
    "    x = tf.keras.layers.BatchNormalization()(x)\n",
    "    x = tf.keras.layers.Conv2D(32,3,padding=\"same\",activation=\"relu\")(x)\n",
    "    x = tf.keras.layers.BatchNormalization()(x)  #  256*256*64\n",
    "    # 下采样\n",
    "    x1 = tf.keras.layers.MaxPooling2D(padding=\"same\")(x) # 128*128*64\n",
    "    x1=tf.keras.layers.Dropout(0.5)(x1)\n",
    "\n",
    "    # 卷积 第二部分\n",
    "    x1 = tf.keras.layers.Conv2D(64,3,padding=\"same\",activation=\"relu\")(x1)\n",
    "    x1 = tf.keras.layers.BatchNormalization()(x1)\n",
    "    x1 = tf.keras.layers.Conv2D(64,3,padding=\"same\",activation=\"relu\")(x1)\n",
    "    x1 = tf.keras.layers.BatchNormalization()(x1)  #  128*128*128\n",
    "    # 下采样 \n",
    "    x2 = tf.keras.layers.MaxPooling2D(padding=\"same\")(x1) # 64*64*128\n",
    "    x2=tf.keras.layers.Dropout(0.5)(x2)\n",
    "        \n",
    "    # 卷积 第三部分\n",
    "    x2 = tf.keras.layers.Conv2D(128,3,padding=\"same\",activation=\"relu\")(x2)\n",
    "    x2 = tf.keras.layers.BatchNormalization()(x2)\n",
    "    x2 = tf.keras.layers.Conv2D(128,3,padding=\"same\",activation=\"relu\")(x2)\n",
    "    x2 = tf.keras.layers.BatchNormalization()(x2)  #  64*64*256\n",
    "    # 下采样\n",
    "    x3 = tf.keras.layers.MaxPooling2D(padding=\"same\")(x2) # 32*32*256\n",
    "    x3=tf.keras.layers.Dropout(0.5)(x3)\n",
    "    \n",
    "    # 卷积 第四部分\n",
    "    x3 = tf.keras.layers.Conv2D(256,3,padding=\"same\",activation=\"relu\")(x3)\n",
    "    x3 = tf.keras.layers.BatchNormalization()(x3)\n",
    "    x3 = tf.keras.layers.Conv2D(256,3,padding=\"same\",activation=\"relu\")(x3)\n",
    "    x3 = tf.keras.layers.BatchNormalization()(x3)  #  32*32*512\n",
    "    # 下采样\n",
    "    x4 = tf.keras.layers.MaxPooling2D(padding=\"same\")(x3) # 16*16*512\n",
    "    x4=tf.keras.layers.Dropout(0.5)(x4)\n",
    "    # 卷积  第五部分\n",
    "    x4 = tf.keras.layers.Conv2D(512,3,padding=\"same\",activation=\"relu\")(x4)\n",
    "    x4 = tf.keras.layers.BatchNormalization()(x4)\n",
    "    x4 = tf.keras.layers.Conv2D(512,3,padding=\"same\",activation=\"relu\")(x4)\n",
    "    x4 = tf.keras.layers.BatchNormalization()(x4)  #  16*16*1024\n",
    "    x4=tf.keras.layers.Dropout(0.5)(x4)\n",
    "    \n",
    "    ## unet网络结构上采样部分\n",
    "    \n",
    "    # 反卷积 第一部分      512个卷积核 卷积核大小2*2 跨度2 填充方式same 激活relu\n",
    "    x5 = tf.keras.layers.Conv2DTranspose(256,2,strides=2,\n",
    "                                         padding=\"same\",\n",
    "                                         activation=\"relu\")(x4)#32*32*512\n",
    "    x5 = tf.keras.layers.BatchNormalization()(x5)\n",
    "    x5=tf.keras.layers.Dropout(0.5)(x5)\n",
    "    x6 = tf.concat([x3,x5],axis=-1)#合并 32*32*1024\n",
    "    # 卷积\n",
    "    x6 = tf.keras.layers.Conv2D(256,3,padding=\"same\",activation=\"relu\")(x6)\n",
    "    x6 = tf.keras.layers.BatchNormalization()(x6)\n",
    "    x6 = tf.keras.layers.Conv2D(256,3,padding=\"same\",activation=\"relu\")(x6)\n",
    "    x6 = tf.keras.layers.BatchNormalization()(x6)  #  32*32*512\n",
    "    x6=tf.keras.layers.Dropout(0.5)(x6)\n",
    "    \n",
    "    \n",
    "    # 反卷积 第二部分\n",
    "    x7 = tf.keras.layers.Conv2DTranspose(128,2,strides=2,\n",
    "                                         padding=\"same\",\n",
    "                                         activation=\"relu\")(x6)#64*64*256\n",
    "    x7 = tf.keras.layers.BatchNormalization()(x7)\n",
    "    x7=tf.keras.layers.Dropout(0.5)(x7)\n",
    "    x8 = tf.concat([x2,x7],axis=-1)#合并 64*64*512\n",
    "    # 卷积\n",
    "    x8 = tf.keras.layers.Conv2D(128,3,padding=\"same\",activation=\"relu\")(x8)\n",
    "    x8 = tf.keras.layers.BatchNormalization()(x8)\n",
    "    x8 = tf.keras.layers.Conv2D(128,3,padding=\"same\",activation=\"relu\")(x8)\n",
    "    x8 = tf.keras.layers.BatchNormalization()(x8)  #  #64*64*256\n",
    "    x8=tf.keras.layers.Dropout(0.5)(x8)\n",
    "    \n",
    "    # 反卷积 第三部分\n",
    "    x9 = tf.keras.layers.Conv2DTranspose(64,2,strides=2,\n",
    "                                         padding=\"same\",\n",
    "                                         activation=\"relu\")(x8)# 128*128*128\n",
    "    x9 = tf.keras.layers.BatchNormalization()(x9)\n",
    "    x9=tf.keras.layers.Dropout(0.5)(x9)\n",
    "    x10 = tf.concat([x1,x9],axis=-1)#合并 128*128*256\n",
    "    # 卷积\n",
    "    x10 = tf.keras.layers.Conv2D(64,3,padding=\"same\",activation=\"relu\")(x10)\n",
    "    x10 = tf.keras.layers.BatchNormalization()(x10)\n",
    "    x10 = tf.keras.layers.Conv2D(64,3,padding=\"same\",activation=\"relu\")(x10)\n",
    "    x10 = tf.keras.layers.BatchNormalization()(x10)  # 128*128*128\n",
    "    x10=tf.keras.layers.Dropout(0.5)(x10)\n",
    "    \n",
    "    # 反卷积 第四部分\n",
    "    x11 = tf.keras.layers.Conv2DTranspose(32,2,strides=2,\n",
    "                                         padding=\"same\",\n",
    "                                         activation=\"relu\")(x10)#  256*256*64\n",
    "    x11 = tf.keras.layers.BatchNormalization()(x11)\n",
    "    x11=tf.keras.layers.Dropout(0.5)(x11)\n",
    "    x12 = tf.concat([x,x11],axis=-1)#合并 256*256*128\n",
    "    # 卷积\n",
    "    x12 = tf.keras.layers.Conv2D(32,3,padding=\"same\",activation=\"relu\")(x12)\n",
    "    x12 = tf.keras.layers.BatchNormalization()(x12)\n",
    "    x12 = tf.keras.layers.Conv2D(32,3,padding=\"same\",activation=\"relu\")(x12)\n",
    "    x12 = tf.keras.layers.BatchNormalization()(x12)  # 256*256*64\n",
    "    x12=tf.keras.layers.Dropout(0.5)(x12)\n",
    "    \n",
    "    # 输出层 第五部分\n",
    "    output =tf.keras.layers.Conv2D(5,1,padding=\"same\",activation=\"softmax\")(x12)# 256*256*34\n",
    "    \n",
    "    return tf.keras.Model(inputs=inputs,outputs=output)"
   ]
  },
  {
   "cell_type": "code",
   "execution_count": 10,
   "metadata": {},
   "outputs": [],
   "source": [
    "model3 = create_model()"
   ]
  },
  {
   "cell_type": "code",
   "execution_count": 11,
   "metadata": {},
   "outputs": [
    {
     "name": "stdout",
     "output_type": "stream",
     "text": [
      "模型保存路径： ./model/Unet.ckpt\n",
      "-------------load the model-----------------\n"
     ]
    }
   ],
   "source": [
    "# 导入保存的模型，第二次运行才可以进行的操作\n",
    "# 给出模型保存的路径以及文件名\n",
    "model3_name = 'Unet'\n",
    "#checkpoint_save_path = \"./checkpoint/{0}-mineral-type{1}.ckpt\".format(model_name,len(dirList)) \n",
    "checkpoint_save_path = \"./model/{0}.ckpt\".format(model3_name) \n",
    "print('模型保存路径：',checkpoint_save_path)\n",
    "\n",
    "# 读取模型\n",
    "if os.path.exists(checkpoint_save_path + '.index'):        # 通过索引表判断保存文件是否存在\n",
    "    print('-------------load the model-----------------')  # 是，则打印\"导入模型\"\n",
    "    model3.load_weights(checkpoint_save_path)               # 导入模型"
   ]
  },
  {
   "cell_type": "code",
   "execution_count": 12,
   "metadata": {},
   "outputs": [],
   "source": [
    "# 创建png的解码函数\n",
    "def read_png(path):\n",
    "    img = tf.io.read_file(path)\n",
    "    img = tf.image.decode_png(img,channels=3)\n",
    "    return img"
   ]
  },
  {
   "cell_type": "code",
   "execution_count": 13,
   "metadata": {},
   "outputs": [],
   "source": [
    "# 创建png的解码函数\n",
    "def read_png_label(path):\n",
    "    img = tf.io.read_file(path)\n",
    "    img = tf.image.decode_png(img,channels=1)\n",
    "    return img"
   ]
  },
  {
   "cell_type": "code",
   "execution_count": 14,
   "metadata": {},
   "outputs": [],
   "source": [
    "def normal(img,mask):\n",
    "    img = tf.cast(img,tf.float32)/127.5-1\n",
    "    mask = tf.cast(mask,tf.int32)\n",
    "    return img,mask"
   ]
  },
  {
   "cell_type": "code",
   "execution_count": 15,
   "metadata": {},
   "outputs": [],
   "source": [
    "# 组装\n",
    "def load_image(img_path,mask_path):\n",
    "    img = read_png(img_path)\n",
    "    mask = read_png_label(mask_path)\n",
    "    \n",
    "    img = tf.image.resize(img,(256,256))\n",
    "    mask = tf.image.resize(mask,(256,256))\n",
    "    \n",
    "    img,mask = normal(img,mask)\n",
    "    \n",
    "    return img,mask"
   ]
  },
  {
   "cell_type": "code",
   "execution_count": 16,
   "metadata": {},
   "outputs": [],
   "source": [
    "#参数设置\n",
    "BATCH_SIZE = 32\n",
    "BUFFER_SIZE = 300"
   ]
  },
  {
   "cell_type": "code",
   "execution_count": 17,
   "metadata": {},
   "outputs": [],
   "source": [
    "auto = tf.data.experimental.AUTOTUNE # 根据cpu使用情况自动规划线程读取图片"
   ]
  },
  {
   "cell_type": "code",
   "execution_count": 18,
   "metadata": {},
   "outputs": [],
   "source": [
    "images_test=glob.glob('./dataset/split_train/test/images/*.png')\n",
    "labels_test=glob.glob('./dataset/split_train/test/labels/*.png')\n",
    "dataset1 = tf.data.Dataset.from_tensor_slices((images_test,labels_test))\n",
    "dataset1 = dataset1.map(load_image,num_parallel_calls=auto)\n",
    "dataset1 = dataset1.batch(BATCH_SIZE)"
   ]
  },
  {
   "cell_type": "code",
   "execution_count": 133,
   "metadata": {},
   "outputs": [],
   "source": [
    "for image, mask in dataset1.take(2): # 从test数据取出一个batch\n",
    "    pred_mask1 = model1.predict(image) # model.predict(image) 对图片进行预测\n",
    "    pred_mask2 = model2.predict(image)\n",
    "    pred_mask3 = model3.predict(image)\n",
    "    pred_mask1 = tf.argmax(pred_mask1, axis=-1)  # 取出预测最大值\n",
    "    pred_mask2 = tf.argmax(pred_mask2, axis=-1)\n",
    "    pred_mask3 = tf.argmax(pred_mask3, axis=-1)\n",
    "    pred_mask1 = pred_mask1[..., tf.newaxis] # 维度扩展 取前面所有维度\n",
    "    pred_mask2 = pred_mask2[..., tf.newaxis]\n",
    "    pred_mask3 = pred_mask3[..., tf.newaxis]"
   ]
  },
  {
   "cell_type": "code",
   "execution_count": 93,
   "metadata": {},
   "outputs": [],
   "source": [
    "import matplotlib as mpl\n",
    "colors = ['#862983', '#FF8DA3', '#FFD7CF', '#FFF8EC','#FFC66E'] \n",
    "cmap = mpl.colors.ListedColormap(colors)"
   ]
  },
  {
   "cell_type": "code",
   "execution_count": 138,
   "metadata": {},
   "outputs": [
    {
     "data": {
      "image/png": "[encoded data removed]",
      "text/plain": [
       "<Figure size 1080x1080 with 5 Axes>"
      ]
     },
     "metadata": {
      "needs_background": "light"
     },
     "output_type": "display_data"
    }
   ],
   "source": [
    "plt.figure(figsize=(15, 15))\n",
    "plt.subplot(1,5,1)\n",
    "plt.imshow(tf.keras.preprocessing.image.array_to_img(image[31]),cmap=cmap)\n",
    "plt.subplot(1,5,2)\n",
    "plt.imshow(tf.keras.preprocessing.image.array_to_img(mask[31]),cmap=cmap)\n",
    "plt.subplot(1,5,3)\n",
    "plt.imshow(tf.keras.preprocessing.image.array_to_img(pred_mask1[31]),cmap=cmap)\n",
    "plt.subplot(1,5,4)\n",
    "plt.imshow(tf.keras.preprocessing.image.array_to_img(pred_mask2[31]),cmap=cmap)\n",
    "plt.subplot(1,5,5)\n",
    "plt.imshow(tf.keras.preprocessing.image.array_to_img(pred_mask3[31]),cmap=cmap)\n",
    "plt.savefig('2-31')"
   ]
  },
  {
   "cell_type": "code",
   "execution_count": null,
   "metadata": {},
   "outputs": [],
   "source": []
  }
 ],
 "metadata": {
  "kernelspec": {
   "display_name": "Python 3",
   "language": "python",
   "name": "python3"
  },
  "language_info": {
   "codemirror_mode": {
    "name": "ipython",
    "version": 3
   },
   "file_extension": ".py",
   "mimetype": "text/x-python",
   "name": "python",
   "nbconvert_exporter": "python",
   "pygments_lexer": "ipython3",
   "version": "3.7.6"
  }
 },
 "nbformat": 4,
 "nbformat_minor": 4
}
