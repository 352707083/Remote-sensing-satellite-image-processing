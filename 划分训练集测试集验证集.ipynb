{
 "cells": [
  {
   "cell_type": "code",
   "execution_count": 1,
   "metadata": {},
   "outputs": [],
   "source": [
    "import shutil\n",
    "import random\n",
    "import os\n",
    "import random"
   ]
  },
  {
   "cell_type": "code",
   "execution_count": 2,
   "metadata": {},
   "outputs": [],
   "source": [
    "image_original_path = 'dataset/train/images/'\n",
    "label_original_path = 'dataset/train/labels/'"
   ]
  },
  {
   "cell_type": "code",
   "execution_count": 3,
   "metadata": {},
   "outputs": [],
   "source": [
    "train_image_path = 'dataset/split_train/train/images/'\n",
    "train_label_path = 'dataset/split_train/train/labels/'"
   ]
  },
  {
   "cell_type": "code",
   "execution_count": 4,
   "metadata": {},
   "outputs": [],
   "source": [
    "val_image_path = 'dataset/split_train/val/images/'\n",
    "val_label_path = 'dataset/split_train/val/labels/'"
   ]
  },
  {
   "cell_type": "code",
   "execution_count": 5,
   "metadata": {},
   "outputs": [],
   "source": [
    "test_image_path = 'dataset/split_train/test/images/'\n",
    "test_label_path = 'dataset/split_train/test/labels/'"
   ]
  },
  {
   "cell_type": "code",
   "execution_count": 6,
   "metadata": {},
   "outputs": [],
   "source": [
    "train_percent = 0.8\n",
    "val_percent = 0.1\n",
    "test_percent = 0.1"
   ]
  },
  {
   "cell_type": "code",
   "execution_count": 7,
   "metadata": {},
   "outputs": [],
   "source": [
    "def mkdir():\n",
    "    if not os.path.exists(train_image_path):\n",
    "        os.makedirs(train_image_path)\n",
    "    if not os.path.exists(train_label_path):\n",
    "        os.makedirs(train_label_path)\n",
    "\n",
    "    if not os.path.exists(val_image_path):\n",
    "        os.makedirs(val_image_path)\n",
    "    if not os.path.exists(val_label_path):\n",
    "        os.makedirs(val_label_path)\n",
    "\n",
    "    if not os.path.exists(test_image_path):\n",
    "        os.makedirs(test_image_path)\n",
    "    if not os.path.exists(test_label_path):\n",
    "        os.makedirs(test_label_path)"
   ]
  },
  {
   "cell_type": "code",
   "execution_count": 8,
   "metadata": {},
   "outputs": [],
   "source": [
    "def main():\n",
    "    mkdir()\n",
    "\n",
    "    total_txt = os.listdir(label_original_path)\n",
    "    num_txt = len(total_txt)\n",
    "    list_all_txt = range(num_txt)  # 范围 range(0, num)\n",
    "\n",
    "    num_train = int(num_txt * train_percent)\n",
    "    num_val = int(num_txt * val_percent)\n",
    "    num_test = num_txt - num_train - num_val\n",
    "\n",
    "    train = random.sample(list_all_txt, num_train)\n",
    "    # train从list_all_txt取出num_train个元素\n",
    "    # 所以list_all_txt列表只剩下了这些元素：val_test\n",
    "    val_test = [i for i in list_all_txt if not i in train]\n",
    "    # 再从val_test取出num_val个元素，val_test剩下的元素就是test\n",
    "    val = random.sample(val_test, num_val)\n",
    "    # 检查两个列表元素是否有重合的元素\n",
    "    # set_c = set(val_test) & set(val)\n",
    "    # list_c = list(set_c)\n",
    "    # print(list_c)\n",
    "    # print(len(list_c))\n",
    "\n",
    "    print(\"训练集数目：{}, 验证集数目：{},测试集数目：{}\".format(len(train), len(val), len(val_test) - len(val)))\n",
    "    for i in list_all_txt:\n",
    "        name = total_txt[i][:-4]\n",
    "\n",
    "        srcImage = image_original_path + name + '.png'\n",
    "        srcLabel = label_original_path + name + '.png'\n",
    "\n",
    "        if i in train:\n",
    "            dst_train_Image = train_image_path + name + '.png'\n",
    "            dst_train_Label = train_label_path + name + '.png'\n",
    "            shutil.copyfile(srcImage, dst_train_Image)\n",
    "            shutil.copyfile(srcLabel, dst_train_Label)\n",
    "        elif i in val:\n",
    "            dst_val_Image = val_image_path + name + '.png'\n",
    "            dst_val_Label = val_label_path + name + '.png'\n",
    "            shutil.copyfile(srcImage, dst_val_Image)\n",
    "            shutil.copyfile(srcLabel, dst_val_Label)\n",
    "        else:\n",
    "            dst_test_Image = test_image_path + name + '.png'\n",
    "            dst_test_Label = test_label_path + name + '.png'\n",
    "            shutil.copyfile(srcImage, dst_test_Image)\n",
    "            shutil.copyfile(srcLabel, dst_test_Label)"
   ]
  },
  {
   "cell_type": "code",
   "execution_count": 9,
   "metadata": {},
   "outputs": [
    {
     "name": "stdout",
     "output_type": "stream",
     "text": [
      "训练集数目：24000, 验证集数目：3000,测试集数目：3000\n"
     ]
    }
   ],
   "source": [
    "if __name__ == '__main__':\n",
    "    main()"
   ]
  },
  {
   "cell_type": "code",
   "execution_count": null,
   "metadata": {},
   "outputs": [],
   "source": []
  }
 ],
 "metadata": {
  "kernelspec": {
   "display_name": "Python 3",
   "language": "python",
   "name": "python3"
  },
  "language_info": {
   "codemirror_mode": {
    "name": "ipython",
    "version": 3
   },
   "file_extension": ".py",
   "mimetype": "text/x-python",
   "name": "python",
   "nbconvert_exporter": "python",
   "pygments_lexer": "ipython3",
   "version": "3.7.6"
  }
 },
 "nbformat": 4,
 "nbformat_minor": 5
}
